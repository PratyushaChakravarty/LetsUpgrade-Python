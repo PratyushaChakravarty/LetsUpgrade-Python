{
  "nbformat": 4,
  "nbformat_minor": 0,
  "metadata": {
    "colab": {
      "name": "Untitled27.ipynb",
      "provenance": []
    },
    "kernelspec": {
      "name": "python3",
      "display_name": "Python 3"
    }
  },
  "cells": [
    {
      "cell_type": "markdown",
      "metadata": {
        "id": "cafKE88Ht7nW"
      },
      "source": [
        "# **Question 1**\r\n",
        "Try 5 Different functions of the String in Python.\r\n",
        "For example - index, split function."
      ]
    },
    {
      "cell_type": "code",
      "metadata": {
        "colab": {
          "base_uri": "https://localhost:8080/"
        },
        "id": "hhgH8_USt_8Z",
        "outputId": "39c94ce5-de1e-4180-c444-33f25fdf52ef"
      },
      "source": [
        "#Index function\r\n",
        "sentence1 = \"My name is Pratyusha Chakravarty\"\r\n",
        "result = sentence1.index('Pratyusha')\r\n",
        "print(\"Output of INDEX function : \",result)\r\n",
        "\r\n",
        "#Capitalize function\r\n",
        "sentence2 = \"my name is Pratyusha Chakravarty\"\r\n",
        "print(\"Output of CAPITALIZE function : \",sentence2.capitalize())\r\n",
        "\r\n",
        "#Split function\r\n",
        "print(\"Output of SPLIT function : \",sentence1.split())\r\n",
        "\r\n",
        "#Find function\r\n",
        "print(\"Output of FIND function : \",sentence1.find('Pratyusha'))\r\n",
        "\r\n",
        "#Format function\r\n",
        "sentence3 = \"My {} is {} Chakravarty\"\r\n",
        "print(\"Output of FORMAT function : \",sentence3.format(\"name\", \"Pratyusha\"))"
      ],
      "execution_count": 33,
      "outputs": [
        {
          "output_type": "stream",
          "text": [
            "Output of INDEX function :  11\n",
            "Output of CAPITALIZE function :  My name is pratyusha chakravarty\n",
            "Output of SPLIT function :  ['My', 'name', 'is', 'Pratyusha', 'Chakravarty']\n",
            "Output of FIND function :  11\n",
            "Output of FORMAT function :  My name is Pratyusha Chakravarty\n"
          ],
          "name": "stdout"
        }
      ]
    },
    {
      "cell_type": "markdown",
      "metadata": {
        "id": "kYDez3u_wbWy"
      },
      "source": [
        "# **Question 2**\r\n",
        "Try 5 Different functions of the List object in Python"
      ]
    },
    {
      "cell_type": "code",
      "metadata": {
        "colab": {
          "base_uri": "https://localhost:8080/"
        },
        "id": "0byZ4wtOwgBV",
        "outputId": "e1f18743-0ab2-4123-92f7-08613103c055"
      },
      "source": [
        "#Append function\r\n",
        "l1=['1', '2', '3']\r\n",
        "l1.append('4')\r\n",
        "print(\"Output of APPEND function : \" ,l1)\r\n",
        "\r\n",
        "#Sort function\r\n",
        "l2 = ['dog', 'mouse', 'cat']\r\n",
        "l2.sort()\r\n",
        "print(\"Output of SORT function : \" ,l2)\r\n",
        "\r\n",
        "#Index function\r\n",
        "l3 = ['a', 'e', 'i', 'o', 'u']\r\n",
        "result = l3.index('i')\r\n",
        "print(\"Output of INDEX function : \" ,result)\r\n",
        "\r\n",
        "#Reverse function\r\n",
        "l4 = ['10', '9', '8', '7', '6', '5', '4', '3', '2', '1']\r\n",
        "l4.reverse()\r\n",
        "print(\"Output of REVERSE function : \" ,l4)\r\n",
        "\r\n",
        "#Copy function\r\n",
        "l5 = ['mouse', 'cat', 'dog', 'lion']\r\n",
        "l6 = l5\r\n",
        "print(\"Output of COPY function : \" ,l6)"
      ],
      "execution_count": 34,
      "outputs": [
        {
          "output_type": "stream",
          "text": [
            "Output of APPEND function :  ['1', '2', '3', '4']\n",
            "Output of SORT function :  ['cat', 'dog', 'mouse']\n",
            "Output of INDEX function :  2\n",
            "Output of REVERSE function :  ['1', '2', '3', '4', '5', '6', '7', '8', '9', '10']\n",
            "Output of COPY function :  ['mouse', 'cat', 'dog', 'lion']\n"
          ],
          "name": "stdout"
        }
      ]
    },
    {
      "cell_type": "markdown",
      "metadata": {
        "id": "aIrn-fIPFP8Q"
      },
      "source": [
        "# **Question 3**\r\n",
        "Experiment with at least 5 default functions of Dictionary"
      ]
    },
    {
      "cell_type": "code",
      "metadata": {
        "colab": {
          "base_uri": "https://localhost:8080/"
        },
        "id": "L6bCOhxdFYo9",
        "outputId": "e23a8002-6d60-410f-c2d4-bf417a2ce0d6"
      },
      "source": [
        "#Len function\r\n",
        "d1 = {1:'My', 2:'name', 3:'is', 4:'Pratyusha', 5:'Chakravarty'}\r\n",
        "res1 = len(d1)\r\n",
        "print(\"Output of LEN function : \",res1)\r\n",
        "\r\n",
        "#Values function\r\n",
        "res2 = d1.values()\r\n",
        "print(\"Output of VALUES function : \",res2)\r\n",
        "\r\n",
        "#Keys function\r\n",
        "res3 = d1.keys()\r\n",
        "print(\"Output of KEYS function : \",res3)\r\n",
        "\r\n",
        "#Items function\r\n",
        "res4 = d1.items()\r\n",
        "print(\"Output of ITEMS function : \",res4)\r\n",
        "\r\n",
        "#Clear function\r\n",
        "d1.clear()\r\n",
        "print(d1)"
      ],
      "execution_count": 35,
      "outputs": [
        {
          "output_type": "stream",
          "text": [
            "Output of LEN function :  5\n",
            "Output of VALUES function :  dict_values(['My', 'name', 'is', 'Pratyusha', 'Chakravarty'])\n",
            "Output of KEYS function :  dict_keys([1, 2, 3, 4, 5])\n",
            "Output of ITEMS function :  dict_items([(1, 'My'), (2, 'name'), (3, 'is'), (4, 'Pratyusha'), (5, 'Chakravarty')])\n",
            "{}\n"
          ],
          "name": "stdout"
        }
      ]
    }
  ]
}