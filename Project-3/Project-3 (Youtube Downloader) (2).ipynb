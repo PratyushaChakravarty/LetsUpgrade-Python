{
 "cells": [
  {
   "cell_type": "code",
   "execution_count": 1,
   "metadata": {},
   "outputs": [],
   "source": [
    "import pytube"
   ]
  },
  {
   "cell_type": "code",
   "execution_count": 2,
   "metadata": {},
   "outputs": [],
   "source": [
    "from pytube import YouTube"
   ]
  },
  {
   "cell_type": "code",
   "execution_count": 3,
   "metadata": {},
   "outputs": [],
   "source": [
    "from tkinter import *"
   ]
  },
  {
   "cell_type": "code",
   "execution_count": null,
   "metadata": {},
   "outputs": [
    {
     "name": "stdout",
     "output_type": "stream",
     "text": [
      "Entry box https://youtu.be/sK2pPFxR6bg\n"
     ]
    }
   ],
   "source": [
    "root = Tk()\n",
    "root.geometry(\"300x400\")\n",
    "root.title(\"You tube video download\") #https://youtu.be/sK2pPFxR6bg\n",
    "def youtube():  \n",
    "    a=var.get()\n",
    "    ytvideo = YouTube(a).streams.filter(progressive=True, file_extension=\"mp4\").order_by('resolution').desc().first()\n",
    "    ytvideo.download(r\"E:\\Navigus\")\n",
    "    print(\"Entry box\", a)\n",
    "l1 = Label(root,text = \"Youtube Video Link \",fg=\"Red\",font=(\"bold\",20))\n",
    "l1.place(x=30,y=20)\n",
    "var=StringVar()\n",
    "e1=Entry(root,textvariable=var,width=60)\n",
    "e1.place(x=60, y=80)\n",
    "b1=Button(root,text=\"Download\",command=youtube,bg=\"green\",width=20,fg=\"white\")\n",
    "b1.place(x=80,y=120)\n",
    "root.mainloop()\n"
   ]
  },
  {
   "cell_type": "code",
   "execution_count": null,
   "metadata": {},
   "outputs": [],
   "source": []
  }
 ],
 "metadata": {
  "kernelspec": {
   "display_name": "Python 3",
   "language": "python",
   "name": "python3"
  },
  "language_info": {
   "codemirror_mode": {
    "name": "ipython",
    "version": 3
   },
   "file_extension": ".py",
   "mimetype": "text/x-python",
   "name": "python",
   "nbconvert_exporter": "python",
   "pygments_lexer": "ipython3",
   "version": "3.8.3"
  }
 },
 "nbformat": 4,
 "nbformat_minor": 4
}
