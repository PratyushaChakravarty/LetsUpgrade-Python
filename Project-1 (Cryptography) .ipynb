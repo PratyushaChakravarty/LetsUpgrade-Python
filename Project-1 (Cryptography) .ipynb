{
  "nbformat": 4,
  "nbformat_minor": 0,
  "metadata": {
    "colab": {
      "name": "Untitled30.ipynb",
      "provenance": []
    },
    "kernelspec": {
      "name": "python3",
      "display_name": "Python 3"
    }
  },
  "cells": [
    {
      "cell_type": "markdown",
      "metadata": {
        "id": "vlPcePVAfc_6"
      },
      "source": [
        "# **Question 1**\r\n",
        "Do the project - Develop a cryptography app in python and Upload it in Github"
      ]
    },
    {
      "cell_type": "code",
      "metadata": {
        "colab": {
          "base_uri": "https://localhost:8080/"
        },
        "id": "zjZvS1BHfg4L",
        "outputId": "9c380eae-5568-4efd-88c3-6908febb72ed"
      },
      "source": [
        "!pip install cryptography "
      ],
      "execution_count": 1,
      "outputs": [
        {
          "output_type": "stream",
          "text": [
            "Collecting cryptography\n",
            "\u001b[?25l  Downloading https://files.pythonhosted.org/packages/c9/de/7054df0620b5411ba45480f0261e1fb66a53f3db31b28e3aa52c026e72d9/cryptography-3.3.1-cp36-abi3-manylinux2010_x86_64.whl (2.6MB)\n",
            "\u001b[K     |████████████████████████████████| 2.6MB 6.4MB/s \n",
            "\u001b[?25hRequirement already satisfied: six>=1.4.1 in /usr/local/lib/python3.6/dist-packages (from cryptography) (1.15.0)\n",
            "Requirement already satisfied: cffi>=1.12 in /usr/local/lib/python3.6/dist-packages (from cryptography) (1.14.4)\n",
            "Requirement already satisfied: pycparser in /usr/local/lib/python3.6/dist-packages (from cffi>=1.12->cryptography) (2.20)\n",
            "Installing collected packages: cryptography\n",
            "Successfully installed cryptography-3.3.1\n"
          ],
          "name": "stdout"
        }
      ]
    },
    {
      "cell_type": "code",
      "metadata": {
        "id": "59I9H81Cf0LV"
      },
      "source": [
        "from cryptography.fernet import Fernet"
      ],
      "execution_count": 2,
      "outputs": []
    },
    {
      "cell_type": "code",
      "metadata": {
        "id": "tKLchiHxf5Ur"
      },
      "source": [
        "def genratePassKey():\r\n",
        "    key = Fernet.generate_key()\r\n",
        "    print(key)\r\n",
        "    print(type(key))\r\n",
        "    pratyusha = open(\"PasswordKey.key\",'wb')\r\n",
        "    pratyusha.write(key)\r\n",
        "    pratyusha.close()"
      ],
      "execution_count": 3,
      "outputs": []
    },
    {
      "cell_type": "code",
      "metadata": {
        "colab": {
          "base_uri": "https://localhost:8080/"
        },
        "id": "ZLjCsEQ3gChh",
        "outputId": "565ed509-5cf0-48d2-f448-adbbf88ce978"
      },
      "source": [
        "genratePassKey()"
      ],
      "execution_count": 4,
      "outputs": [
        {
          "output_type": "stream",
          "text": [
            "b'cG1o7k6_KZEKdz2JEddyKyYHMBfAL0utPwMdxJkpQFs='\n",
            "<class 'bytes'>\n"
          ],
          "name": "stdout"
        }
      ]
    },
    {
      "cell_type": "code",
      "metadata": {
        "id": "8jtYjW4ygGRC"
      },
      "source": [
        "def getMyKey():\r\n",
        "    pratyusha = open(\"PasswordKey.key\",'rb')\r\n",
        "    return pratyusha.read()"
      ],
      "execution_count": 5,
      "outputs": []
    },
    {
      "cell_type": "code",
      "metadata": {
        "colab": {
          "base_uri": "https://localhost:8080/"
        },
        "id": "7DgXXG67gOHr",
        "outputId": "4bb0e73b-21c3-43cc-aa1f-9e727f29618d"
      },
      "source": [
        "getMyKey()"
      ],
      "execution_count": 6,
      "outputs": [
        {
          "output_type": "execute_result",
          "data": {
            "text/plain": [
              "b'cG1o7k6_KZEKdz2JEddyKyYHMBfAL0utPwMdxJkpQFs='"
            ]
          },
          "metadata": {
            "tags": []
          },
          "execution_count": 6
        }
      ]
    },
    {
      "cell_type": "code",
      "metadata": {
        "id": "H5Yu0N8qgSN9"
      },
      "source": [
        "def getContentFromUser():\r\n",
        "    return input(\"Enter the Content you want to Encrypt in your python Script : \")"
      ],
      "execution_count": 7,
      "outputs": []
    },
    {
      "cell_type": "code",
      "metadata": {
        "colab": {
          "base_uri": "https://localhost:8080/",
          "height": 52
        },
        "id": "3MORbKz9gZFj",
        "outputId": "772b33ca-15e0-46a6-ff40-1eb0227c7e4f"
      },
      "source": [
        "getContentFromUser()"
      ],
      "execution_count": 8,
      "outputs": [
        {
          "output_type": "stream",
          "text": [
            "Enter the Content you want to Encrypt in your python Script : My name is Pratyusha Chakravarty\n"
          ],
          "name": "stdout"
        },
        {
          "output_type": "execute_result",
          "data": {
            "application/vnd.google.colaboratory.intrinsic+json": {
              "type": "string"
            },
            "text/plain": [
              "'My name is Pratyusha Chakravarty'"
            ]
          },
          "metadata": {
            "tags": []
          },
          "execution_count": 8
        }
      ]
    },
    {
      "cell_type": "code",
      "metadata": {
        "id": "RIHl8WbAggWr"
      },
      "source": [
        "def encryptMessage(message_normal):\r\n",
        "    key = getMyKey()\r\n",
        "    k = Fernet(key)\r\n",
        "    encrypted_Message = k.encrypt(message_normal)\r\n",
        "    return encrypted_Message"
      ],
      "execution_count": 9,
      "outputs": []
    },
    {
      "cell_type": "code",
      "metadata": {
        "colab": {
          "base_uri": "https://localhost:8080/"
        },
        "id": "F1EwG7zrgjN3",
        "outputId": "8e0c2ed7-134b-4d9b-f229-2f813bcf5e70"
      },
      "source": [
        "encryptMessage(b\" HEY! My name is Pratyusha Chakravarty\")"
      ],
      "execution_count": 10,
      "outputs": [
        {
          "output_type": "execute_result",
          "data": {
            "text/plain": [
              "b'gAAAAABf2fyPF0xu2EmDh1cfdUYf_5noyHq3dcYl00Pk17ExgAleUSFVj1sNJK7cGiKYsmquOLcCc35I1X3ch0ASiB0q8aNmXOVoOQ310KRlDsPsQ9OCHnZPdJ2Ps7GNoWZ8SElMeYk_'"
            ]
          },
          "metadata": {
            "tags": []
          },
          "execution_count": 10
        }
      ]
    },
    {
      "cell_type": "code",
      "metadata": {
        "id": "4_4hiPYFgtHr"
      },
      "source": [
        "def decryptMessage(message_secret):\r\n",
        "    key = getMyKey()\r\n",
        "    k = Fernet(key)\r\n",
        "    decrypted_Message = k.decrypt(message_secret)\r\n",
        "    return decrypted_Message"
      ],
      "execution_count": 11,
      "outputs": []
    },
    {
      "cell_type": "code",
      "metadata": {
        "colab": {
          "base_uri": "https://localhost:8080/"
        },
        "id": "HxkawW0ogzhw",
        "outputId": "ba58c563-ea0f-40a0-b596-56a369fab95d"
      },
      "source": [
        "decryptMessage(b'gAAAAABf2fyPF0xu2EmDh1cfdUYf_5noyHq3dcYl00Pk17ExgAleUSFVj1sNJK7cGiKYsmquOLcCc35I1X3ch0ASiB0q8aNmXOVoOQ310KRlDsPsQ9OCHnZPdJ2Ps7GNoWZ8SElMeYk_')"
      ],
      "execution_count": 12,
      "outputs": [
        {
          "output_type": "execute_result",
          "data": {
            "text/plain": [
              "b' HEY! My name is Pratyusha Chakravarty'"
            ]
          },
          "metadata": {
            "tags": []
          },
          "execution_count": 12
        }
      ]
    }
  ]
}