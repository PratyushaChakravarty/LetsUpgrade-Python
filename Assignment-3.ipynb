{
  "nbformat": 4,
  "nbformat_minor": 0,
  "metadata": {
    "colab": {
      "name": "Untitled29.ipynb",
      "provenance": [],
      "toc_visible": true
    },
    "kernelspec": {
      "name": "python3",
      "display_name": "Python 3"
    }
  },
  "cells": [
    {
      "cell_type": "markdown",
      "metadata": {
        "id": "AI4er8jEoU9W"
      },
      "source": [
        "# **Question 1**\r\n",
        "Write down a program in Python for Opening a File and Writing \" I Love LetsUpgrade\" And close\r\n",
        "it, and read it back again, and then append some data to it and close it."
      ]
    },
    {
      "cell_type": "code",
      "metadata": {
        "colab": {
          "base_uri": "https://localhost:8080/"
        },
        "id": "L4R5hZJbuVGF",
        "outputId": "f476a1b5-8695-4644-c788-679bfa9e6eba"
      },
      "source": [
        "f = open(\"file.txt\",\"w\")\r\n",
        "f.write(\"I Love LetsUpgrade\")\r\n",
        "f.close()\r\n",
        "f = open(\"file.txt\", \"r\")\r\n",
        "print(f.read())\r\n",
        "f = open(\"file.txt\", \"a\")\r\n",
        "f.write(\"Hello\")\r\n",
        "f = open(\"file.txt\", \"r\")\r\n",
        "print(f.read())\r\n",
        "f.close()\r\n"
      ],
      "execution_count": 24,
      "outputs": [
        {
          "output_type": "stream",
          "text": [
            "I Love LetsUpgrade\n",
            "I Love LetsUpgradeHello\n"
          ],
          "name": "stdout"
        }
      ]
    },
    {
      "cell_type": "markdown",
      "metadata": {
        "id": "nTaknVF3u2Uz"
      },
      "source": [
        "# **Question 2**\r\n",
        "Write a function which can return a Factorial of any numbers as INT, given in the argument."
      ]
    },
    {
      "cell_type": "code",
      "metadata": {
        "colab": {
          "base_uri": "https://localhost:8080/"
        },
        "id": "nqYtK3k4u9TI",
        "outputId": "15cb5021-7301-497c-96e1-22947d1df92e"
      },
      "source": [
        "def factorial(num):\r\n",
        "    if num == 0:\r\n",
        "        return 1\r\n",
        "    else:\r\n",
        "        return num * factorial(num-1)\r\n",
        "num1=int(input(\"Enter any number : \"))\r\n",
        "print(\"Factorial of\" ,num1, \" is : \" ,factorial(num1))\r\n"
      ],
      "execution_count": 26,
      "outputs": [
        {
          "output_type": "stream",
          "text": [
            "Enter any number : 5\n",
            "Factorial of 5  is :  120\n"
          ],
          "name": "stdout"
        }
      ]
    }
  ]
}